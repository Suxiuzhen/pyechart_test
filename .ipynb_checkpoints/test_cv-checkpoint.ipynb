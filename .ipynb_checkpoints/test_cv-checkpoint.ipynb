{
 "cells": [
  {
   "cell_type": "code",
   "execution_count": null,
   "id": "56b72aee",
   "metadata": {},
   "outputs": [],
   "source": [
    "img_path = './ng_image/dog.jpg'"
   ]
  },
  {
   "cell_type": "code",
   "execution_count": 1,
   "id": "42b37b13",
   "metadata": {
    "lines_to_next_cell": 0
   },
   "outputs": [
    {
     "ename": "ModuleNotFoundError",
     "evalue": "No module named 'cv2'",
     "output_type": "error",
     "traceback": [
      "\u001b[1;31m---------------------------------------------------------------------------\u001b[0m",
      "\u001b[1;31mModuleNotFoundError\u001b[0m                       Traceback (most recent call last)",
      "\u001b[1;32m~\\AppData\\Local\\Temp\\ipykernel_17664\\571303353.py\u001b[0m in \u001b[0;36m<module>\u001b[1;34m\u001b[0m\n\u001b[1;32m----> 1\u001b[1;33m \u001b[1;32mimport\u001b[0m \u001b[0mcv2\u001b[0m\u001b[1;33m\u001b[0m\u001b[1;33m\u001b[0m\u001b[0m\n\u001b[0m",
      "\u001b[1;31mModuleNotFoundError\u001b[0m: No module named 'cv2'"
     ]
    }
   ],
   "source": [
    "import cv2"
   ]
  },
  {
   "cell_type": "code",
   "execution_count": null,
   "id": "03e55c7e",
   "metadata": {
    "lines_to_next_cell": 0
   },
   "outputs": [],
   "source": [
    "img = cv2.imread(img_path)\n",
    "cv2.imshow('my_pic', img)"
   ]
  },
  {
   "cell_type": "code",
   "execution_count": null,
   "id": "19566538",
   "metadata": {
    "lines_to_next_cell": 0
   },
   "outputs": [],
   "source": [
    "gray_img = cv2.cvtColor(img, cv2.COLOR_BGR2GRAY)\n",
    "cv2.imshow('gray_pic', gray_img)"
   ]
  },
  {
   "cell_type": "code",
   "execution_count": null,
   "id": "351f7a6a",
   "metadata": {
    "lines_to_next_cell": 0
   },
   "outputs": [],
   "source": [
    "equalized_img = cv2.equalizeHist(gray_img)\n",
    "cv2.imshow('equalized_pic', equalized_img)"
   ]
  },
  {
   "cell_type": "code",
   "execution_count": null,
   "id": "a0a2e4ad",
   "metadata": {
    "lines_to_next_cell": 0
   },
   "outputs": [],
   "source": [
    "minmax_img = cv2.normalize(gray_img, None, 0, 255, cv2.NORM_MINMAX)\n",
    "cv2.imshow('minmax_img', minmax_img)"
   ]
  },
  {
   "cell_type": "code",
   "execution_count": null,
   "id": "addd4513",
   "metadata": {
    "lines_to_next_cell": 0
   },
   "outputs": [],
   "source": [
    "color_enhanced_img = cv2.cvtColor(minmax_img, cv2.COLOR_GRAY2BGR)\n",
    "cv2.imshow('enhanced_img', color_enhanced_img)"
   ]
  },
  {
   "cell_type": "code",
   "execution_count": null,
   "id": "a17c3763",
   "metadata": {
    "lines_to_next_cell": 2
   },
   "outputs": [],
   "source": [
    "cv2.waitKey()\n",
    "\n",
    "\n",
    "\n",
    "\n",
    "\n"
   ]
  }
 ],
 "metadata": {
  "jupytext": {
   "cell_metadata_filter": "-all",
   "main_language": "python",
   "notebook_metadata_filter": "-all"
  },
  "kernelspec": {
   "display_name": "Python 3 (ipykernel)",
   "language": "python",
   "name": "python3"
  },
  "language_info": {
   "codemirror_mode": {
    "name": "ipython",
    "version": 3
   },
   "file_extension": ".py",
   "mimetype": "text/x-python",
   "name": "python",
   "nbconvert_exporter": "python",
   "pygments_lexer": "ipython3",
   "version": "3.7.7"
  }
 },
 "nbformat": 4,
 "nbformat_minor": 5
}
